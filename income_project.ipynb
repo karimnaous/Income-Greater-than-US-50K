{
  "nbformat": 4,
  "nbformat_minor": 0,
  "metadata": {
    "colab": {
      "name": "Naous_Karim_Final_CS395.ipynb",
      "provenance": [],
      "collapsed_sections": [],
      "machine_shape": "hm"
    },
    "kernelspec": {
      "name": "python3",
      "display_name": "Python 3"
    }
  },
  "cells": [
    {
      "cell_type": "markdown",
      "metadata": {
        "id": "fOPw5qbe04DQ",
        "colab_type": "text"
      },
      "source": [
        "###**Karim Naous**\n",
        "###**CMSC 395**\n",
        "###**Dr. Joon Suk Park**\n",
        "###**5/2/2020**\n",
        "\n"
      ]
    },
    {
      "cell_type": "markdown",
      "metadata": {
        "id": "JC5dlANHtPfe",
        "colab_type": "text"
      },
      "source": [
        "###**Project**\n",
        "###Binary Classification: Income greater than US $50K?\n",
        "\n",
        "###Task: Using the [Census Income Dataset](http://mlr.cs.umass.edu/ml/datasets/Census+Income), build a classifier to predict whether a person makes greater than or less than US $50K."
      ]
    },
    {
      "cell_type": "markdown",
      "metadata": {
        "id": "9g3HI949xmkT",
        "colab_type": "text"
      },
      "source": [
        "#####**Notes**\n",
        "#####This is a complete project completed independently as part of a class assignment. I selected this task. \n",
        "#####After viewing, you can also review the related report: [link](https://drive.google.com/file/d/1WFlK_wQ5Vbx9Jeq3kZK52Cu_FK-EW7Vb/view?usp=sharing)\n",
        "\n"
      ]
    },
    {
      "cell_type": "code",
      "metadata": {
        "id": "EZ999n8ZypSe",
        "colab_type": "code",
        "colab": {
          "base_uri": "https://localhost:8080/",
          "height": 71
        },
        "outputId": "7ca358f3-95b4-4351-8215-2799edc2447f"
      },
      "source": [
        "# Importing neccessary libraries\n",
        "\n",
        "import numpy \n",
        "import pandas as pd\n",
        "\n",
        "import io\n",
        "import seaborn as sns\n",
        "\n",
        "from matplotlib import pyplot as plt\n",
        "from collections import Counter\n",
        "from pandas import read_csv\n",
        "from pandas.api.types import CategoricalDtype\n",
        "\n",
        "from sklearn import preprocessing\n",
        "from sklearn.preprocessing import StandardScaler\n",
        "from sklearn.base import BaseEstimator, TransformerMixin\n",
        "from sklearn.pipeline import Pipeline\n",
        "from sklearn.pipeline import FeatureUnion\n",
        "from sklearn.metrics import accuracy_score\n",
        "from sklearn.dummy import DummyClassifier\n",
        "from sklearn.tree import DecisionTreeClassifier\n",
        "from sklearn.naive_bayes import GaussianNB\n",
        "from sklearn.ensemble import GradientBoostingClassifier\n"
      ],
      "execution_count": null,
      "outputs": [
        {
          "output_type": "stream",
          "text": [
            "/usr/local/lib/python3.6/dist-packages/statsmodels/tools/_testing.py:19: FutureWarning: pandas.util.testing is deprecated. Use the functions in the public API at pandas.testing instead.\n",
            "  import pandas.util.testing as tm\n"
          ],
          "name": "stderr"
        }
      ]
    },
    {
      "cell_type": "markdown",
      "metadata": {
        "id": "idv7Gx0J2jbg",
        "colab_type": "text"
      },
      "source": [
        "Import Data"
      ]
    },
    {
      "cell_type": "code",
      "metadata": {
        "id": "RIrGuPI11-SB",
        "colab_type": "code",
        "colab": {
          "resources": {
            "http://localhost:8080/nbextensions/google.colab/files.js": {
              "data": "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",
              "ok": true,
              "headers": [
                [
                  "content-type",
                  "application/javascript"
                ]
              ],
              "status": 200,
              "status_text": ""
            }
          },
          "base_uri": "https://localhost:8080/",
          "height": 105
        },
        "outputId": "575fa972-8557-400c-8b90-640558c2829d"
      },
      "source": [
        "# Select and upload both files in the included 'upload' folder\n",
        "from google.colab import files\n",
        "uploaded = files.upload()\n"
      ],
      "execution_count": null,
      "outputs": [
        {
          "output_type": "display_data",
          "data": {
            "text/html": [
              "\n",
              "     <input type=\"file\" id=\"files-30aa24fc-37ae-44dd-aeb1-23e6b231f581\" name=\"files[]\" multiple disabled />\n",
              "     <output id=\"result-30aa24fc-37ae-44dd-aeb1-23e6b231f581\">\n",
              "      Upload widget is only available when the cell has been executed in the\n",
              "      current browser session. Please rerun this cell to enable.\n",
              "      </output>\n",
              "      <script src=\"/nbextensions/google.colab/files.js\"></script> "
            ],
            "text/plain": [
              "<IPython.core.display.HTML object>"
            ]
          },
          "metadata": {
            "tags": []
          }
        },
        {
          "output_type": "stream",
          "text": [
            "Saving adult.data.csv to adult.data.csv\n",
            "Saving adult.test.csv to adult.test.csv\n"
          ],
          "name": "stdout"
        }
      ]
    },
    {
      "cell_type": "markdown",
      "metadata": {
        "id": "e_L8cV2k2lkz",
        "colab_type": "text"
      },
      "source": [
        "Read Data"
      ]
    },
    {
      "cell_type": "code",
      "metadata": {
        "id": "ZXikTFUG2nCf",
        "colab_type": "code",
        "colab": {}
      },
      "source": [
        "\n",
        "train_data = read_csv(io.BytesIO(uploaded['adult.data.csv']), header=None, na_values=' ?') # XYtrain\n",
        "test_data = read_csv(io.BytesIO(uploaded['adult.test.csv']), header=None, na_values=' ?') # XYTest\n",
        "\n",
        "# Add column labels\n",
        "\n",
        "train_data.columns = [\"Age\", \"Workclass\", \"Final Weight\", \"Education\", \n",
        "    \"Education Number of Year\", \"Marital-status\", \"Occupation\", \"Relationship\", \n",
        "    \"Race\", \"Sex\", \"Capital-gain\", \"Capital-loss\", \"Hours-per-week\",\n",
        "    \"Native-country\", \"Class\"]\n",
        "\n",
        "test_data.columns = [\"Age\", \"Workclass\", \"Final Weight\", \"Education\", \n",
        "    \"Education Number of Year\", \"Marital-status\", \"Occupation\", \"Relationship\", \n",
        "    \"Race\", \"Sex\", \"Capital-gain\", \"Capital-loss\", \"Hours-per-week\",\n",
        "    \"Native-country\", \"Class\"]\n",
        "  "
      ],
      "execution_count": null,
      "outputs": []
    },
    {
      "cell_type": "markdown",
      "metadata": {
        "id": "Z1fMO0fedyC8",
        "colab_type": "text"
      },
      "source": [
        "####**Features in this data-set are labelled. There are 14:**\n",
        "#####Age: Continuous\n",
        "#####Workclass: Government or private or self-employed\n",
        "#####Final Weight: Weight of instance in sample\n",
        "#####Education: K-12 to college \n",
        "#####Education Number of Years: continuous, same as education but numerial\n",
        "#####Marital-status: Married, Never-Married, Divorced, etc.\n",
        "#####Occupation: type of work / industry\n",
        "#####Relationship: relation to a family (ex. husband, wife, child)\n",
        "#####Race: White, Black, Asian, etc.\n",
        "#####Sex: Male or Female\n",
        "#####Capital-gain: Gain on invesments in past year\n",
        "#####Capital-loss: Loss on invesments in past year\n",
        "#####Hours-per-week: Number of hours worked per week\n",
        "#####Native-country: Country of origin (to the U.S.)"
      ]
    },
    {
      "cell_type": "markdown",
      "metadata": {
        "id": "cAA_2ZAJhH7j",
        "colab_type": "text"
      },
      "source": [
        "# Data Preparation\n",
        "Since we have a lot of data points, we can drop entries with missing values"
      ]
    },
    {
      "cell_type": "code",
      "metadata": {
        "id": "35h-rjnBfwSA",
        "colab_type": "code",
        "colab": {}
      },
      "source": [
        "\n",
        "# Drop data with missing data-points\n",
        "train_data = train_data.dropna()\n",
        "test_data = test_data.dropna()\n"
      ],
      "execution_count": null,
      "outputs": []
    },
    {
      "cell_type": "markdown",
      "metadata": {
        "id": "ybCUxwIovF_Q",
        "colab_type": "text"
      },
      "source": [
        "Now, we want to analyze the class distribution between the train and test data-sets."
      ]
    },
    {
      "cell_type": "code",
      "metadata": {
        "id": "uLIIdac0I1hi",
        "colab_type": "code",
        "colab": {
          "base_uri": "https://localhost:8080/",
          "height": 136
        },
        "outputId": "ce1eb5f4-244e-4c60-9734-10d29c16dedf"
      },
      "source": [
        "# summarize the class distribution\n",
        "\n",
        "target = train_data.values[:,-1]\n",
        "counter = Counter(target)\n",
        "print(\"Train data-set:\")\n",
        "for k,v in counter.items():\n",
        "\tper = v / len(target) * 100\n",
        "\tprint('Class=%s, Count=%d, Percentage=%.3f%%' % (k, v, per))\n",
        " \n",
        "print()\n",
        "\n",
        "print(\"Test data-set:\")\n",
        "target = test_data.values[:,-1]\n",
        "counter = Counter(target)\n",
        "for k,v in counter.items():\n",
        "\tper = v / len(target) * 100\n",
        "\tprint('Class=%s, Count=%d, Percentage=%.3f%%' % (k, v, per))"
      ],
      "execution_count": null,
      "outputs": [
        {
          "output_type": "stream",
          "text": [
            "Train data-set:\n",
            "Class= <=50K, Count=22654, Percentage=75.108%\n",
            "Class= >50K, Count=7508, Percentage=24.892%\n",
            "\n",
            "Test data-set:\n",
            "Class= <=50K, Count=11360, Percentage=75.432%\n",
            "Class= >50K, Count=3700, Percentage=24.568%\n"
          ],
          "name": "stdout"
        }
      ]
    },
    {
      "cell_type": "markdown",
      "metadata": {
        "id": "8KJ_VBtUI3re",
        "colab_type": "text"
      },
      "source": [
        "**Training data:**\n",
        "##### Remaining data = 30,162\n",
        "#####Class distribution: \n",
        "#####<=50K: 75.108% \n",
        "##### >50K: 24.892%\n",
        "\n",
        "**Test data:**\n",
        "##### Remaining data = 16,281\n",
        "#####Class distribution: \n",
        "#####<=50K: 76.377%\n",
        "##### >50K: 23.623%\n",
        "\n",
        "##### We can see a similar class distribution between the train and test data. There is slightly more <=50K classifications in the test dataset, but it is very mild (76.377% vs 75.108%). \n"
      ]
    },
    {
      "cell_type": "markdown",
      "metadata": {
        "id": "Gek_pOjKJW3t",
        "colab_type": "text"
      },
      "source": [
        "\n",
        "\n",
        "##### Our train:test ratio of 65%:35% which is good. The class distribution is similar across each which is important."
      ]
    },
    {
      "cell_type": "code",
      "metadata": {
        "id": "fFUS3uM7u5tY",
        "colab_type": "code",
        "colab": {}
      },
      "source": [
        "# Encode Class to binary 0/1 in both train and test data-sets\n",
        "train_data[\"Class\"] = train_data[\"Class\"].astype('category')\n",
        "train_data[\"Class\"] = train_data[\"Class\"].cat.codes\n",
        "\n",
        "test_data[\"Class\"] = test_data[\"Class\"].astype('category')\n",
        "test_data[\"Class\"] = test_data[\"Class\"].cat.codes"
      ],
      "execution_count": null,
      "outputs": []
    },
    {
      "cell_type": "markdown",
      "metadata": {
        "id": "8_yVphgQLWFL",
        "colab_type": "text"
      },
      "source": [
        "#Data Exploration"
      ]
    },
    {
      "cell_type": "markdown",
      "metadata": {
        "id": "tSyDCheWwEGY",
        "colab_type": "text"
      },
      "source": [
        "First we analyze numerical attributes."
      ]
    },
    {
      "cell_type": "code",
      "metadata": {
        "id": "EMouqDgi2yE4",
        "colab_type": "code",
        "colab": {
          "base_uri": "https://localhost:8080/",
          "height": 740
        },
        "outputId": "04c67323-8f76-40d5-f6f5-b914adda9ec6"
      },
      "source": [
        "num_attributes = train_data.select_dtypes(include=['int'])\n",
        "num_attributes.hist(figsize=(10,10))"
      ],
      "execution_count": null,
      "outputs": [
        {
          "output_type": "execute_result",
          "data": {
            "text/plain": [
              "array([[<matplotlib.axes._subplots.AxesSubplot object at 0x7f48faa1b5f8>,\n",
              "        <matplotlib.axes._subplots.AxesSubplot object at 0x7f48fa9798d0>],\n",
              "       [<matplotlib.axes._subplots.AxesSubplot object at 0x7f48fa9aeb38>,\n",
              "        <matplotlib.axes._subplots.AxesSubplot object at 0x7f48fa962da0>],\n",
              "       [<matplotlib.axes._subplots.AxesSubplot object at 0x7f48fa856fd0>,\n",
              "        <matplotlib.axes._subplots.AxesSubplot object at 0x7f48fa8132b0>]],\n",
              "      dtype=object)"
            ]
          },
          "metadata": {
            "tags": []
          },
          "execution_count": 7
        },
        {
          "output_type": "display_data",
          "data": {
            "image/png": "[encoded data removed]",
            "text/plain": [
              "<Figure size 720x720 with 6 Axes>"
            ]
          },
          "metadata": {
            "tags": [],
            "needs_background": "light"
          }
        }
      ]
    },
    {
      "cell_type": "markdown",
      "metadata": {
        "id": "rE0BewQZ-Fia",
        "colab_type": "text"
      },
      "source": [
        "We can see that our data is evenly distributed for feature, which should help with model accuracy. We notice our data is on different scales, so we must scale it before fitting our model."
      ]
    },
    {
      "cell_type": "markdown",
      "metadata": {
        "id": "QIQp8g7cwhjU",
        "colab_type": "text"
      },
      "source": [
        "Now we analyze categorical attributes."
      ]
    },
    {
      "cell_type": "code",
      "metadata": {
        "id": "Ay_PqnhjNOLv",
        "colab_type": "code",
        "colab": {
          "base_uri": "https://localhost:8080/",
          "height": 119
        },
        "outputId": "c1154c10-dbe0-458e-b861-c8fbcd24c56c"
      },
      "source": [
        "# Select categorical attributes\n",
        "cat_attributes = train_data.select_dtypes(include=['object'])\n",
        "_Class = train_data[\"Class\"]\n",
        "cat_attributes['Class'] = _Class"
      ],
      "execution_count": null,
      "outputs": [
        {
          "output_type": "stream",
          "text": [
            "/usr/local/lib/python3.6/dist-packages/ipykernel_launcher.py:3: SettingWithCopyWarning: \n",
            "A value is trying to be set on a copy of a slice from a DataFrame.\n",
            "Try using .loc[row_indexer,col_indexer] = value instead\n",
            "\n",
            "See the caveats in the documentation: https://pandas.pydata.org/pandas-docs/stable/user_guide/indexing.html#returning-a-view-versus-a-copy\n",
            "  This is separate from the ipykernel package so we can avoid doing imports until\n"
          ],
          "name": "stderr"
        }
      ]
    },
    {
      "cell_type": "code",
      "metadata": {
        "id": "gEfcMXxxRNDG",
        "colab_type": "code",
        "colab": {
          "base_uri": "https://localhost:8080/",
          "height": 313
        },
        "outputId": "447578ef-7519-4a63-cc70-fb193c685972"
      },
      "source": [
        "print(\"Class frequency with respect to Workclass\")\n",
        "sns.countplot(y='Workclass', hue='Class', data = cat_attributes)"
      ],
      "execution_count": null,
      "outputs": [
        {
          "output_type": "stream",
          "text": [
            "Class frequency with respect to Workclass\n"
          ],
          "name": "stdout"
        },
        {
          "output_type": "execute_result",
          "data": {
            "text/plain": [
              "<matplotlib.axes._subplots.AxesSubplot at 0x7f48faa5ae80>"
            ]
          },
          "metadata": {
            "tags": []
          },
          "execution_count": 9
        },
        {
          "output_type": "display_data",
          "data": {
            "image/png": "[encoded data removed]",
            "text/plain": [
              "<Figure size 432x288 with 1 Axes>"
            ]
          },
          "metadata": {
            "tags": [],
            "needs_background": "light"
          }
        }
      ]
    },
    {
      "cell_type": "code",
      "metadata": {
        "id": "kbtAs0LqRRKw",
        "colab_type": "code",
        "colab": {
          "base_uri": "https://localhost:8080/",
          "height": 313
        },
        "outputId": "13675f58-8836-4aa0-ba88-8e00cbb70191"
      },
      "source": [
        "print(\"Class frequency with respect to Education\")\n",
        "sns.countplot(y='Education', hue='Class', data = cat_attributes)"
      ],
      "execution_count": null,
      "outputs": [
        {
          "output_type": "stream",
          "text": [
            "Class frequency with respect to Education\n"
          ],
          "name": "stdout"
        },
        {
          "output_type": "execute_result",
          "data": {
            "text/plain": [
              "<matplotlib.axes._subplots.AxesSubplot at 0x7fd5c3b823c8>"
            ]
          },
          "metadata": {
            "tags": []
          },
          "execution_count": 10
        },
        {
          "output_type": "display_data",
          "data": {
            "image/png": "[encoded data removed]",
            "text/plain": [
              "<Figure size 432x288 with 1 Axes>"
            ]
          },
          "metadata": {
            "tags": [],
            "needs_background": "light"
          }
        }
      ]
    },
    {
      "cell_type": "code",
      "metadata": {
        "id": "g6U4AwzhR-0q",
        "colab_type": "code",
        "colab": {
          "base_uri": "https://localhost:8080/",
          "height": 313
        },
        "outputId": "aca3888c-d4be-43a8-c456-eb8b38923c92"
      },
      "source": [
        "print(\"Class frequency with respect to Marital-status\")\n",
        "sns.countplot(y='Marital-status', hue='Class', data = cat_attributes)"
      ],
      "execution_count": null,
      "outputs": [
        {
          "output_type": "stream",
          "text": [
            "Class frequency with respect to Marital-status\n"
          ],
          "name": "stdout"
        },
        {
          "output_type": "execute_result",
          "data": {
            "text/plain": [
              "<matplotlib.axes._subplots.AxesSubplot at 0x7fd5c3a7def0>"
            ]
          },
          "metadata": {
            "tags": []
          },
          "execution_count": 11
        },
        {
          "output_type": "display_data",
          "data": {
            "image/png": "[encoded data removed]",
            "text/plain": [
              "<Figure size 432x288 with 1 Axes>"
            ]
          },
          "metadata": {
            "tags": [],
            "needs_background": "light"
          }
        }
      ]
    },
    {
      "cell_type": "code",
      "metadata": {
        "id": "nmxWBUZ1SYp8",
        "colab_type": "code",
        "colab": {
          "base_uri": "https://localhost:8080/",
          "height": 313
        },
        "outputId": "cb26c120-e130-491e-e947-fdd9dce67aef"
      },
      "source": [
        "print(\"Class frequency with respect to Occupation\")\n",
        "sns.countplot(y='Occupation', hue='Class', data = cat_attributes)"
      ],
      "execution_count": null,
      "outputs": [
        {
          "output_type": "stream",
          "text": [
            "Class frequency with respect to Occupation\n"
          ],
          "name": "stdout"
        },
        {
          "output_type": "execute_result",
          "data": {
            "text/plain": [
              "<matplotlib.axes._subplots.AxesSubplot at 0x7fd5c3a3a6a0>"
            ]
          },
          "metadata": {
            "tags": []
          },
          "execution_count": 12
        },
        {
          "output_type": "display_data",
          "data": {
            "image/png": "[encoded data removed]",
            "text/plain": [
              "<Figure size 432x288 with 1 Axes>"
            ]
          },
          "metadata": {
            "tags": [],
            "needs_background": "light"
          }
        }
      ]
    },
    {
      "cell_type": "code",
      "metadata": {
        "id": "821UaWWnTRfw",
        "colab_type": "code",
        "colab": {
          "base_uri": "https://localhost:8080/",
          "height": 313
        },
        "outputId": "29c0bc4b-ffc3-4812-d04f-0df996d51fb2"
      },
      "source": [
        "print(\"Class frequency with respect to Relationship\")\n",
        "sns.countplot(y='Relationship', hue='Class', data = cat_attributes)"
      ],
      "execution_count": null,
      "outputs": [
        {
          "output_type": "stream",
          "text": [
            "Class frequency with respect to Relationship\n"
          ],
          "name": "stdout"
        },
        {
          "output_type": "execute_result",
          "data": {
            "text/plain": [
              "<matplotlib.axes._subplots.AxesSubplot at 0x7fd5c3a7d9e8>"
            ]
          },
          "metadata": {
            "tags": []
          },
          "execution_count": 13
        },
        {
          "output_type": "display_data",
          "data": {
            "image/png": "[encoded data removed]",
            "text/plain": [
              "<Figure size 432x288 with 1 Axes>"
            ]
          },
          "metadata": {
            "tags": [],
            "needs_background": "light"
          }
        }
      ]
    },
    {
      "cell_type": "code",
      "metadata": {
        "id": "uzlBn08_ThzC",
        "colab_type": "code",
        "colab": {
          "base_uri": "https://localhost:8080/",
          "height": 313
        },
        "outputId": "4affe305-ddbd-4795-99c6-169a836eeb76"
      },
      "source": [
        "print(\"Class frequency with respect to Race\")\n",
        "sns.countplot(y='Race', hue='Class', data = cat_attributes)"
      ],
      "execution_count": null,
      "outputs": [
        {
          "output_type": "stream",
          "text": [
            "Class frequency with respect to Race\n"
          ],
          "name": "stdout"
        },
        {
          "output_type": "execute_result",
          "data": {
            "text/plain": [
              "<matplotlib.axes._subplots.AxesSubplot at 0x7fd5c38d1208>"
            ]
          },
          "metadata": {
            "tags": []
          },
          "execution_count": 14
        },
        {
          "output_type": "display_data",
          "data": {
            "image/png": "[encoded data removed]",
            "text/plain": [
              "<Figure size 432x288 with 1 Axes>"
            ]
          },
          "metadata": {
            "tags": [],
            "needs_background": "light"
          }
        }
      ]
    },
    {
      "cell_type": "code",
      "metadata": {
        "id": "h4uxVsymT3uu",
        "colab_type": "code",
        "colab": {
          "base_uri": "https://localhost:8080/",
          "height": 313
        },
        "outputId": "15474157-1058-44f2-938f-0214631d8d21"
      },
      "source": [
        "print(\"Class frequency with respect to Sex\")\n",
        "sns.countplot(y='Sex', hue='Class', data = cat_attributes)"
      ],
      "execution_count": null,
      "outputs": [
        {
          "output_type": "stream",
          "text": [
            "Class frequency with respect to Sex\n"
          ],
          "name": "stdout"
        },
        {
          "output_type": "execute_result",
          "data": {
            "text/plain": [
              "<matplotlib.axes._subplots.AxesSubplot at 0x7fd5c3838f98>"
            ]
          },
          "metadata": {
            "tags": []
          },
          "execution_count": 15
        },
        {
          "output_type": "display_data",
          "data": {
            "image/png": "[encoded data removed]",
            "text/plain": [
              "<Figure size 432x288 with 1 Axes>"
            ]
          },
          "metadata": {
            "tags": [],
            "needs_background": "light"
          }
        }
      ]
    },
    {
      "cell_type": "code",
      "metadata": {
        "id": "_H8rEWxLT8FT",
        "colab_type": "code",
        "colab": {
          "base_uri": "https://localhost:8080/",
          "height": 298
        },
        "outputId": "f3c70f50-672c-4949-abc5-beaa299baf9d"
      },
      "source": [
        "sns.countplot(y='Native-country', hue='Class', data = cat_attributes)\n",
        "#Going to have to group into regions"
      ],
      "execution_count": null,
      "outputs": [
        {
          "output_type": "execute_result",
          "data": {
            "text/plain": [
              "<matplotlib.axes._subplots.AxesSubplot at 0x7fd5c40d58d0>"
            ]
          },
          "metadata": {
            "tags": []
          },
          "execution_count": 16
        },
        {
          "output_type": "display_data",
          "data": {
            "image/png": "[encoded data removed]",
            "text/plain": [
              "<Figure size 432x288 with 1 Axes>"
            ]
          },
          "metadata": {
            "tags": [],
            "needs_background": "light"
          }
        }
      ]
    },
    {
      "cell_type": "markdown",
      "metadata": {
        "id": "156Nfj16POqA",
        "colab_type": "text"
      },
      "source": [
        "#####Our categorical data suggests that correlations exist between classes and our features. For example, we see that being self-employed or going to professional school give you a high chance of earning over $50K. \n",
        "\n",
        "##### We note here that we want to encode these categories into numerical data before fitting our models."
      ]
    },
    {
      "cell_type": "markdown",
      "metadata": {
        "id": "g0JvpA_z9w_z",
        "colab_type": "text"
      },
      "source": [
        "We will now set up our **pipeline**"
      ]
    },
    {
      "cell_type": "code",
      "metadata": {
        "id": "kwxW5T0i92dN",
        "colab_type": "code",
        "colab": {}
      },
      "source": [
        "# So that our classifiers work properly:\n",
        "# 1) Our numerical values must be scaled\n",
        "# 2) Our cateogircal values must be converted into numerical values \n",
        "# We will write custom pipelines so we can manipulate the dataframes more easily\n",
        "\n",
        "# Column Selector Pipeline:\n",
        "# Works for both numerical and categorical\n",
        "class ColumnsSelector(BaseEstimator, TransformerMixin):\n",
        "  def __init__(self, type):\n",
        "    self.type = type\n",
        "  def fit(self, X, y=None):\n",
        "    return self\n",
        "  def transform(self,X):\n",
        "    return X.select_dtypes(include=[self.type])\n",
        "\n",
        "# Numerical Pipeline:\n",
        "# We select numerical columns using the column selector pipeline\n",
        "# We scale them values using sklearn's Standard Scalar\n",
        "num_pipeline = Pipeline(steps=[\n",
        "    (\"num_attr_selector\", ColumnsSelector(type='int')),\n",
        "    (\"scaler\", StandardScaler())\n",
        "])\n",
        "\n",
        "\n",
        "# Categorical Pipeline (two parts):\n",
        "\n",
        "# 1) Categorical Encoder\n",
        "# We encode categorical variables to numerical ones (category codes) using pd.getdummies\n",
        "# We must merge temporary the train and test data-set for this just in case there are categories in one that are not in the other\n",
        "class CategoricalEncoder(BaseEstimator, TransformerMixin):\n",
        "  def __init__(self, dropFirst=True):\n",
        "    self.categories=dict()\n",
        "    self.dropFirst=dropFirst\n",
        "  def fit(self, X, y=None):\n",
        "    join_df = pd.concat([train_data, test_X])\n",
        "    join_df = join_df.select_dtypes(include=['object'])\n",
        "    for column in join_df.columns:\n",
        "      self.categories[column] = join_df[column].value_counts().index.tolist()\n",
        "    return self\n",
        "  def transform(self, X):\n",
        "    X_copy = X.copy()\n",
        "    X_copy = X_copy.select_dtypes(include=['object'])\n",
        "    for column in X_copy.columns:\n",
        "      X_copy[column] = X_copy[column].astype({column:\n",
        "                CategoricalDtype(self.categories[column])})\n",
        "    return pd.get_dummies(X_copy, drop_first=self.dropFirst)\n",
        "\n",
        "# 2) Pipeline for cateogrical columns:\n",
        "cat_pipeline = Pipeline(steps=[\n",
        "    (\"cat_attr_selector\", ColumnsSelector(type='object')),\n",
        "    (\"encoder\", CategoricalEncoder(dropFirst=True))\n",
        "])\n",
        "\n",
        "# Full Pipeline:\n",
        "# This allows us to input the whole data-set to it\n",
        "full_pipeline = FeatureUnion([(\"num_pipe\", num_pipeline), \n",
        "                (\"cat_pipeline\", cat_pipeline)])"
      ],
      "execution_count": null,
      "outputs": []
    },
    {
      "cell_type": "code",
      "metadata": {
        "id": "EX5fqVCaKtgF",
        "colab_type": "code",
        "colab": {}
      },
      "source": [
        "# We complete the data processing step by applying the pipeline to the data\n",
        "\n",
        "train_X = train_data.drop('Class', axis =1)\n",
        "train_Y = train_data['Class']\n",
        "\n",
        "test_X = test_data.drop('Class', axis = 1)\n",
        "test_Y = test_data['Class']\n",
        "\n",
        "train_X_processed = full_pipeline.fit_transform(train_X)\n",
        "test_X_processed = full_pipeline.fit_transform(test_X)\n"
      ],
      "execution_count": null,
      "outputs": []
    },
    {
      "cell_type": "markdown",
      "metadata": {
        "id": "rm6EkOLgMQCE",
        "colab_type": "text"
      },
      "source": [
        "#Models"
      ]
    },
    {
      "cell_type": "markdown",
      "metadata": {
        "id": "Fi6bZgMLSd16",
        "colab_type": "text"
      },
      "source": [
        "**Baseline: Dummy Classifier**"
      ]
    },
    {
      "cell_type": "code",
      "metadata": {
        "id": "zgpWecf6MPWu",
        "colab_type": "code",
        "colab": {
          "base_uri": "https://localhost:8080/",
          "height": 34
        },
        "outputId": "1ff1ea65-3e0d-4982-cda2-30c19a48b776"
      },
      "source": [
        "# As a baseline, we fit the dummy classifier\n",
        "dummy_clf = DummyClassifier(strategy=\"most_frequent\")\n",
        "dummy_clf.fit(train_X_processed, train_Y)\n",
        "test_Y_predicted = dummy_clf.predict(test_X_processed)\n",
        "accuracy_score(test_Y_predicted, test_Y)"
      ],
      "execution_count": null,
      "outputs": [
        {
          "output_type": "execute_result",
          "data": {
            "text/plain": [
              "0.7543160690571049"
            ]
          },
          "metadata": {
            "tags": []
          },
          "execution_count": 12
        }
      ]
    },
    {
      "cell_type": "markdown",
      "metadata": {
        "id": "fcNGbJkNScaZ",
        "colab_type": "text"
      },
      "source": [
        "**Decision Tree**"
      ]
    },
    {
      "cell_type": "code",
      "metadata": {
        "id": "BVgJ59b3SbTt",
        "colab_type": "code",
        "colab": {
          "base_uri": "https://localhost:8080/",
          "height": 34
        },
        "outputId": "887208b5-a1d3-4282-a881-d568bbdd3f29"
      },
      "source": [
        "\n",
        "tree_clf = DecisionTreeClassifier()\n",
        "tree_clf = tree_clf.fit(train_X_processed, train_Y)\n",
        "test_Y_predicted = tree_clf.predict(test_X_processed)\n",
        "accuracy_score(test_Y_predicted, test_Y)\n"
      ],
      "execution_count": null,
      "outputs": [
        {
          "output_type": "execute_result",
          "data": {
            "text/plain": [
              "0.7926294820717131"
            ]
          },
          "metadata": {
            "tags": []
          },
          "execution_count": 13
        }
      ]
    },
    {
      "cell_type": "markdown",
      "metadata": {
        "id": "S1Qr3Pa3YH3d",
        "colab_type": "text"
      },
      "source": [
        "**Naive-Bayes (Gaussian NB)**"
      ]
    },
    {
      "cell_type": "code",
      "metadata": {
        "id": "LhRzXjdsYESp",
        "colab_type": "code",
        "colab": {
          "base_uri": "https://localhost:8080/",
          "height": 34
        },
        "outputId": "46d90223-ccc8-496d-a47f-fe7c90f959c5"
      },
      "source": [
        "\n",
        "GNB_clf = GaussianNB()\n",
        "GNB_clf = GNB_clf.fit(train_X_processed, train_Y)\n",
        "test_Y_predicted = GNB_clf.predict(test_X_processed)\n",
        "accuracy_score(test_Y_predicted, test_Y)\n"
      ],
      "execution_count": null,
      "outputs": [
        {
          "output_type": "execute_result",
          "data": {
            "text/plain": [
              "0.5538512616201859"
            ]
          },
          "metadata": {
            "tags": []
          },
          "execution_count": 14
        }
      ]
    },
    {
      "cell_type": "markdown",
      "metadata": {
        "id": "K0xBHiyycdJZ",
        "colab_type": "text"
      },
      "source": [
        "**Gradient Boosting**"
      ]
    },
    {
      "cell_type": "code",
      "metadata": {
        "id": "UKmZExzbccUX",
        "colab_type": "code",
        "colab": {
          "base_uri": "https://localhost:8080/",
          "height": 34
        },
        "outputId": "8c203d93-774f-428b-cda0-3d1335783325"
      },
      "source": [
        "\n",
        "gbc_clf = GradientBoostingClassifier()\n",
        "gbc_clf.fit(train_X_processed, train_Y)\n",
        "test_Y_predicted = gbc_clf.predict(test_X_processed)\n",
        "accuracy_score(test_Y_predicted, test_Y)\n"
      ],
      "execution_count": null,
      "outputs": [
        {
          "output_type": "execute_result",
          "data": {
            "text/plain": [
              "0.854714475431607"
            ]
          },
          "metadata": {
            "tags": []
          },
          "execution_count": 23
        }
      ]
    },
    {
      "cell_type": "markdown",
      "metadata": {
        "id": "VHVSS07jt2td",
        "colab_type": "text"
      },
      "source": [
        "Gradient boosting performs very well on this data-set. We see accuracy of amost 86%. Given the disappointing results with the other models, we are satisfied with this result. "
      ]
    },
    {
      "cell_type": "markdown",
      "metadata": {
        "id": "lqRU4qSNuOjE",
        "colab_type": "text"
      },
      "source": [
        "# Experimenting with features\n",
        "##### We have chosen Gradient Boosting as our model of choice for this data-set due to its high accuracy score. We now want to run our model with different feature combinations."
      ]
    },
    {
      "cell_type": "code",
      "metadata": {
        "id": "89WAnrxAuf1C",
        "colab_type": "code",
        "colab": {
          "base_uri": "https://localhost:8080/",
          "height": 34
        },
        "outputId": "c0eff4ee-e726-464f-a284-35588f410751"
      },
      "source": [
        "\n",
        "# Here is a re-run with all the features included\n",
        "\n",
        "train_data_modified = train_data[[\"Age\", \"Workclass\", \"Final Weight\", \"Education\", \"Education Number of Year\", \"Marital-status\", \"Occupation\", \"Relationship\", \"Race\", \"Sex\", \"Capital-gain\", \"Capital-loss\", \"Hours-per-week\", \"Native-country\", \"Class\"]]\n",
        "test_data_modified = test_data[[\"Age\", \"Workclass\", \"Final Weight\", \"Education\", \"Education Number of Year\", \"Marital-status\", \"Occupation\", \"Relationship\", \"Race\", \"Sex\", \"Capital-gain\", \"Capital-loss\", \"Hours-per-week\", \"Native-country\", \"Class\"]]\n",
        "\n",
        "train_X = train_data_modified.drop('Class', axis =1)\n",
        "train_Y = train_data_modified['Class']\n",
        "test_X = test_data_modified.drop('Class', axis = 1)\n",
        "test_Y = test_data_modified['Class']\n",
        "train_X_processed = full_pipeline.fit_transform(train_X)\n",
        "test_X_processed = full_pipeline.fit_transform(test_X)\n",
        "gbc_clf.fit(train_X_processed, train_Y)\n",
        "test_Y_predicted = gbc_clf.predict(test_X_processed)\n",
        "accuracy_score(test_Y_predicted, test_Y)\n"
      ],
      "execution_count": null,
      "outputs": [
        {
          "output_type": "execute_result",
          "data": {
            "text/plain": [
              "0.854714475431607"
            ]
          },
          "metadata": {
            "tags": []
          },
          "execution_count": 24
        }
      ]
    },
    {
      "cell_type": "markdown",
      "metadata": {
        "id": "GyJ8WxKwxlI-",
        "colab_type": "text"
      },
      "source": [
        "Good accuracy score at 85.47%"
      ]
    },
    {
      "cell_type": "markdown",
      "metadata": {
        "id": "C9ZahrtWzdhy",
        "colab_type": "text"
      },
      "source": [
        "We now drop features one by one and observe the loss or gain in accuracy."
      ]
    },
    {
      "cell_type": "code",
      "metadata": {
        "id": "G4kzRjzCxT_n",
        "colab_type": "code",
        "colab": {
          "base_uri": "https://localhost:8080/",
          "height": 34
        },
        "outputId": "ad0e8dd5-91f1-4ebd-d6c9-7b39112c21a4"
      },
      "source": [
        "# Baseline 85.47%\n",
        "\n",
        "# - Age\n",
        "\n",
        "train_data_modified = train_data[[\"Workclass\", \"Final Weight\", \"Education\", \"Education Number of Year\", \"Marital-status\", \"Occupation\", \"Relationship\", \"Race\", \"Sex\", \"Capital-gain\", \"Capital-loss\", \"Hours-per-week\", \"Native-country\", \"Class\"]]\n",
        "test_data_modified = test_data[[\"Workclass\", \"Final Weight\", \"Education\", \"Education Number of Year\", \"Marital-status\", \"Occupation\", \"Relationship\", \"Race\", \"Sex\", \"Capital-gain\", \"Capital-loss\", \"Hours-per-week\", \"Native-country\", \"Class\"]]\n",
        "\n",
        "train_X = train_data_modified.drop('Class', axis =1)\n",
        "train_Y = train_data_modified['Class']\n",
        "test_X = test_data_modified.drop('Class', axis = 1)\n",
        "test_Y = test_data_modified['Class']\n",
        "train_X_processed = full_pipeline.fit_transform(train_X)\n",
        "test_X_processed = full_pipeline.fit_transform(test_X)\n",
        "gbc_clf.fit(train_X_processed, train_Y)\n",
        "test_Y_predicted = gbc_clf.predict(test_X_processed)\n",
        "accuracy_score(test_Y_predicted, test_Y)"
      ],
      "execution_count": null,
      "outputs": [
        {
          "output_type": "execute_result",
          "data": {
            "text/plain": [
              "0.8539176626826029"
            ]
          },
          "metadata": {
            "tags": []
          },
          "execution_count": 25
        }
      ]
    },
    {
      "cell_type": "markdown",
      "metadata": {
        "id": "ERRYnEU9xfYQ",
        "colab_type": "text"
      },
      "source": [
        "We get a slightly worse classification: 85.39%"
      ]
    },
    {
      "cell_type": "code",
      "metadata": {
        "id": "9kGsTNYhxpSN",
        "colab_type": "code",
        "colab": {
          "base_uri": "https://localhost:8080/",
          "height": 34
        },
        "outputId": "7e0fd85a-435a-441e-db46-1db0b4f5ce90"
      },
      "source": [
        "# Baseline 85.47%\n",
        "\n",
        "# - Workclass\n",
        "\n",
        "train_data_modified = train_data[[\"Age\", \"Final Weight\", \"Education\", \"Education Number of Year\", \"Marital-status\", \"Occupation\", \"Relationship\", \"Race\", \"Sex\", \"Capital-gain\", \"Capital-loss\", \"Hours-per-week\", \"Native-country\", \"Class\"]]\n",
        "test_data_modified = test_data[[\"Age\", \"Final Weight\", \"Education\", \"Education Number of Year\", \"Marital-status\", \"Occupation\", \"Relationship\", \"Race\", \"Sex\", \"Capital-gain\", \"Capital-loss\", \"Hours-per-week\", \"Native-country\", \"Class\"]]\n",
        "\n",
        "train_X = train_data_modified.drop('Class', axis =1)\n",
        "train_Y = train_data_modified['Class']\n",
        "test_X = test_data_modified.drop('Class', axis = 1)\n",
        "test_Y = test_data_modified['Class']\n",
        "train_X_processed = full_pipeline.fit_transform(train_X)\n",
        "test_X_processed = full_pipeline.fit_transform(test_X)\n",
        "gbc_clf.fit(train_X_processed, train_Y)\n",
        "test_Y_predicted = gbc_clf.predict(test_X_processed)\n",
        "accuracy_score(test_Y_predicted, test_Y)"
      ],
      "execution_count": null,
      "outputs": [
        {
          "output_type": "execute_result",
          "data": {
            "text/plain": [
              "0.8518592297476759"
            ]
          },
          "metadata": {
            "tags": []
          },
          "execution_count": 26
        }
      ]
    },
    {
      "cell_type": "markdown",
      "metadata": {
        "id": "s3sdkObq0g35",
        "colab_type": "text"
      },
      "source": [
        "We remove Workclass. We observe a slightly worse accuracy score of 85.19%"
      ]
    },
    {
      "cell_type": "code",
      "metadata": {
        "id": "eU3cWcpH0q75",
        "colab_type": "code",
        "colab": {
          "base_uri": "https://localhost:8080/",
          "height": 34
        },
        "outputId": "fcb7a976-ebab-4438-84fd-a287fd50c0ba"
      },
      "source": [
        "# Baseline 85.47%\n",
        "\n",
        "# - Final Weight\n",
        "\n",
        "train_data_modified = train_data[[\"Age\", \"Workclass\", \"Education\", \"Education Number of Year\", \"Marital-status\", \"Occupation\", \"Relationship\", \"Race\", \"Sex\", \"Capital-gain\", \"Capital-loss\", \"Hours-per-week\", \"Native-country\", \"Class\"]]\n",
        "test_data_modified = test_data[[\"Age\", \"Workclass\", \"Education\", \"Education Number of Year\", \"Marital-status\", \"Occupation\", \"Relationship\", \"Race\", \"Sex\", \"Capital-gain\", \"Capital-loss\", \"Hours-per-week\", \"Native-country\", \"Class\"]]\n",
        "\n",
        "train_X = train_data_modified.drop('Class', axis =1)\n",
        "train_Y = train_data_modified['Class']\n",
        "test_X = test_data_modified.drop('Class', axis = 1)\n",
        "test_Y = test_data_modified['Class']\n",
        "train_X_processed = full_pipeline.fit_transform(train_X)\n",
        "test_X_processed = full_pipeline.fit_transform(test_X)\n",
        "gbc_clf.fit(train_X_processed, train_Y)\n",
        "test_Y_predicted = gbc_clf.predict(test_X_processed)\n",
        "accuracy_score(test_Y_predicted, test_Y)"
      ],
      "execution_count": null,
      "outputs": [
        {
          "output_type": "execute_result",
          "data": {
            "text/plain": [
              "0.8538512616201859"
            ]
          },
          "metadata": {
            "tags": []
          },
          "execution_count": 27
        }
      ]
    },
    {
      "cell_type": "markdown",
      "metadata": {
        "id": "DUuSmb0204B-",
        "colab_type": "text"
      },
      "source": [
        "We remove Final Weight. We get a slightly worse accuracy score at 85.39%"
      ]
    },
    {
      "cell_type": "code",
      "metadata": {
        "id": "nmUHD3-g1GYS",
        "colab_type": "code",
        "colab": {
          "base_uri": "https://localhost:8080/",
          "height": 34
        },
        "outputId": "6de24a5e-b75c-4580-d288-d4dd01a8be3e"
      },
      "source": [
        "# Baseline 85.47%\n",
        "\n",
        "# - Education\n",
        "\n",
        "train_data_modified = train_data[[\"Age\", \"Workclass\", \"Final Weight\", \"Education Number of Year\", \"Marital-status\", \"Occupation\", \"Relationship\", \"Race\", \"Sex\", \"Capital-gain\", \"Capital-loss\", \"Hours-per-week\", \"Native-country\", \"Class\"]]\n",
        "test_data_modified = test_data[[\"Age\", \"Workclass\", \"Final Weight\", \"Education Number of Year\", \"Marital-status\", \"Occupation\", \"Relationship\", \"Race\", \"Sex\", \"Capital-gain\", \"Capital-loss\", \"Hours-per-week\", \"Native-country\", \"Class\"]]\n",
        "\n",
        "train_X = train_data_modified.drop('Class', axis =1)\n",
        "train_Y = train_data_modified['Class']\n",
        "test_X = test_data_modified.drop('Class', axis = 1)\n",
        "test_Y = test_data_modified['Class']\n",
        "train_X_processed = full_pipeline.fit_transform(train_X)\n",
        "test_X_processed = full_pipeline.fit_transform(test_X)\n",
        "gbc_clf.fit(train_X_processed, train_Y)\n",
        "test_Y_predicted = gbc_clf.predict(test_X_processed)\n",
        "accuracy_score(test_Y_predicted, test_Y)"
      ],
      "execution_count": null,
      "outputs": [
        {
          "output_type": "execute_result",
          "data": {
            "text/plain": [
              "0.8539840637450199"
            ]
          },
          "metadata": {
            "tags": []
          },
          "execution_count": 28
        }
      ]
    },
    {
      "cell_type": "markdown",
      "metadata": {
        "id": "ayArImUW1Zhl",
        "colab_type": "text"
      },
      "source": [
        "We remove Education. We get a very slightly worse accuracy score of 85.40%"
      ]
    },
    {
      "cell_type": "code",
      "metadata": {
        "id": "qyVaW0Nc1hFe",
        "colab_type": "code",
        "colab": {
          "base_uri": "https://localhost:8080/",
          "height": 34
        },
        "outputId": "c6bef2ff-4dee-4c09-8600-9e48abd57a65"
      },
      "source": [
        "# Baseline 85.47%\n",
        "\n",
        "# - Education Number of Year\n",
        "\n",
        "train_data_modified = train_data[[\"Age\", \"Workclass\", \"Final Weight\", \"Education\", \"Marital-status\", \"Occupation\", \"Relationship\", \"Race\", \"Sex\", \"Capital-gain\", \"Capital-loss\", \"Hours-per-week\", \"Native-country\", \"Class\"]]\n",
        "test_data_modified = test_data[[\"Age\", \"Workclass\", \"Final Weight\", \"Education\", \"Marital-status\", \"Occupation\", \"Relationship\", \"Race\", \"Sex\", \"Capital-gain\", \"Capital-loss\", \"Hours-per-week\", \"Native-country\", \"Class\"]]\n",
        "\n",
        "train_X = train_data_modified.drop('Class', axis =1)\n",
        "train_Y = train_data_modified['Class']\n",
        "test_X = test_data_modified.drop('Class', axis = 1)\n",
        "test_Y = test_data_modified['Class']\n",
        "train_X_processed = full_pipeline.fit_transform(train_X)\n",
        "test_X_processed = full_pipeline.fit_transform(test_X)\n",
        "gbc_clf.fit(train_X_processed, train_Y)\n",
        "test_Y_predicted = gbc_clf.predict(test_X_processed)\n",
        "accuracy_score(test_Y_predicted, test_Y)"
      ],
      "execution_count": null,
      "outputs": [
        {
          "output_type": "execute_result",
          "data": {
            "text/plain": [
              "0.8539840637450199"
            ]
          },
          "metadata": {
            "tags": []
          },
          "execution_count": 29
        }
      ]
    },
    {
      "cell_type": "markdown",
      "metadata": {
        "id": "FQrH9t3e13gc",
        "colab_type": "text"
      },
      "source": [
        "We remove Education Number of Years. We get a slightly worse accuracy at 85.40%"
      ]
    },
    {
      "cell_type": "code",
      "metadata": {
        "id": "fdUDwDjA1-sm",
        "colab_type": "code",
        "colab": {
          "base_uri": "https://localhost:8080/",
          "height": 34
        },
        "outputId": "7f4a66db-6a7c-44cc-fbf1-123022e74b6e"
      },
      "source": [
        "# Baseline 85.47%\n",
        "\n",
        "# - Marital-status\n",
        "\n",
        "train_data_modified = train_data[[\"Age\", \"Workclass\", \"Final Weight\", \"Education\", \"Education Number of Year\", \"Occupation\", \"Relationship\", \"Race\", \"Sex\", \"Capital-gain\", \"Capital-loss\", \"Hours-per-week\", \"Native-country\", \"Class\"]]\n",
        "test_data_modified = test_data[[\"Age\", \"Workclass\", \"Final Weight\", \"Education\", \"Education Number of Year\", \"Occupation\", \"Relationship\", \"Race\", \"Sex\", \"Capital-gain\", \"Capital-loss\", \"Hours-per-week\", \"Native-country\", \"Class\"]]\n",
        "\n",
        "train_X = train_data_modified.drop('Class', axis =1)\n",
        "train_Y = train_data_modified['Class']\n",
        "test_X = test_data_modified.drop('Class', axis = 1)\n",
        "test_Y = test_data_modified['Class']\n",
        "train_X_processed = full_pipeline.fit_transform(train_X)\n",
        "test_X_processed = full_pipeline.fit_transform(test_X)\n",
        "gbc_clf.fit(train_X_processed, train_Y)\n",
        "test_Y_predicted = gbc_clf.predict(test_X_processed)\n",
        "accuracy_score(test_Y_predicted, test_Y)"
      ],
      "execution_count": null,
      "outputs": [
        {
          "output_type": "execute_result",
          "data": {
            "text/plain": [
              "0.8565073041168658"
            ]
          },
          "metadata": {
            "tags": []
          },
          "execution_count": 30
        }
      ]
    },
    {
      "cell_type": "markdown",
      "metadata": {
        "id": "xtYhiLAb2Nk6",
        "colab_type": "text"
      },
      "source": [
        "We remove marital-status and get a higher accuracy of 85.65%"
      ]
    },
    {
      "cell_type": "code",
      "metadata": {
        "id": "6bmHcunM2XY6",
        "colab_type": "code",
        "colab": {
          "base_uri": "https://localhost:8080/",
          "height": 34
        },
        "outputId": "0575c3e1-87df-4ae9-8adb-5ed37ef457dc"
      },
      "source": [
        "# Baseline 85.47%\n",
        "\n",
        "# - Occupation\n",
        "\n",
        "train_data_modified = train_data[[\"Age\", \"Workclass\", \"Final Weight\", \"Education\", \"Education Number of Year\", \"Marital-status\", \"Relationship\", \"Race\", \"Sex\", \"Capital-gain\", \"Capital-loss\", \"Hours-per-week\", \"Native-country\", \"Class\"]]\n",
        "test_data_modified = test_data[[\"Age\", \"Workclass\", \"Final Weight\", \"Education\", \"Education Number of Year\", \"Marital-status\", \"Relationship\", \"Race\", \"Sex\", \"Capital-gain\", \"Capital-loss\", \"Hours-per-week\", \"Native-country\", \"Class\"]]\n",
        "\n",
        "train_X = train_data_modified.drop('Class', axis =1)\n",
        "train_Y = train_data_modified['Class']\n",
        "test_X = test_data_modified.drop('Class', axis = 1)\n",
        "test_Y = test_data_modified['Class']\n",
        "train_X_processed = full_pipeline.fit_transform(train_X)\n",
        "test_X_processed = full_pipeline.fit_transform(test_X)\n",
        "gbc_clf.fit(train_X_processed, train_Y)\n",
        "test_Y_predicted = gbc_clf.predict(test_X_processed)\n",
        "accuracy_score(test_Y_predicted, test_Y)"
      ],
      "execution_count": null,
      "outputs": [
        {
          "output_type": "execute_result",
          "data": {
            "text/plain": [
              "0.85"
            ]
          },
          "metadata": {
            "tags": []
          },
          "execution_count": 31
        }
      ]
    },
    {
      "cell_type": "markdown",
      "metadata": {
        "id": "I9XT1PkO2gNb",
        "colab_type": "text"
      },
      "source": [
        "We remove Occupation and get a slightly worse classification at 85%"
      ]
    },
    {
      "cell_type": "code",
      "metadata": {
        "id": "FM7-2w282jsE",
        "colab_type": "code",
        "colab": {
          "base_uri": "https://localhost:8080/",
          "height": 34
        },
        "outputId": "ad022eea-1f9a-4a54-9e9a-436ff63cdec4"
      },
      "source": [
        "# Baseline 85.47%\n",
        "\n",
        "# - Relationship\n",
        "\n",
        "train_data_modified = train_data[[\"Age\", \"Workclass\", \"Final Weight\", \"Education\", \"Education Number of Year\", \"Marital-status\", \"Occupation\", \"Race\", \"Sex\", \"Capital-gain\", \"Capital-loss\", \"Hours-per-week\", \"Native-country\", \"Class\"]]\n",
        "test_data_modified = test_data[[\"Age\", \"Workclass\", \"Final Weight\", \"Education\", \"Education Number of Year\", \"Marital-status\", \"Occupation\", \"Race\", \"Sex\", \"Capital-gain\", \"Capital-loss\", \"Hours-per-week\", \"Native-country\", \"Class\"]]\n",
        "\n",
        "train_X = train_data_modified.drop('Class', axis =1)\n",
        "train_Y = train_data_modified['Class']\n",
        "test_X = test_data_modified.drop('Class', axis = 1)\n",
        "test_Y = test_data_modified['Class']\n",
        "train_X_processed = full_pipeline.fit_transform(train_X)\n",
        "test_X_processed = full_pipeline.fit_transform(test_X)\n",
        "gbc_clf.fit(train_X_processed, train_Y)\n",
        "test_Y_predicted = gbc_clf.predict(test_X_processed)\n",
        "accuracy_score(test_Y_predicted, test_Y)"
      ],
      "execution_count": null,
      "outputs": [
        {
          "output_type": "execute_result",
          "data": {
            "text/plain": [
              "0.8518592297476759"
            ]
          },
          "metadata": {
            "tags": []
          },
          "execution_count": 32
        }
      ]
    },
    {
      "cell_type": "markdown",
      "metadata": {
        "id": "l69koMVL2rKi",
        "colab_type": "text"
      },
      "source": [
        "We remove Relationship and get a slightly worse accuracy at 85.19%"
      ]
    },
    {
      "cell_type": "code",
      "metadata": {
        "id": "q7kDPGR02xWT",
        "colab_type": "code",
        "colab": {
          "base_uri": "https://localhost:8080/",
          "height": 34
        },
        "outputId": "b2b19da9-d5ec-4d9f-c2ef-59327ba6fe85"
      },
      "source": [
        "# Baseline 85.47%\n",
        "\n",
        "# - Race\n",
        "\n",
        "train_data_modified = train_data[[\"Age\", \"Workclass\", \"Final Weight\", \"Education\", \"Education Number of Year\", \"Marital-status\", \"Occupation\", \"Relationship\", \"Sex\", \"Capital-gain\", \"Capital-loss\", \"Hours-per-week\", \"Native-country\", \"Class\"]]\n",
        "test_data_modified = test_data[[\"Age\", \"Workclass\", \"Final Weight\", \"Education\", \"Education Number of Year\", \"Marital-status\", \"Occupation\", \"Relationship\", \"Sex\", \"Capital-gain\", \"Capital-loss\", \"Hours-per-week\", \"Native-country\", \"Class\"]]\n",
        "\n",
        "train_X = train_data_modified.drop('Class', axis =1)\n",
        "train_Y = train_data_modified['Class']\n",
        "test_X = test_data_modified.drop('Class', axis = 1)\n",
        "test_Y = test_data_modified['Class']\n",
        "train_X_processed = full_pipeline.fit_transform(train_X)\n",
        "test_X_processed = full_pipeline.fit_transform(test_X)\n",
        "gbc_clf.fit(train_X_processed, train_Y)\n",
        "test_Y_predicted = gbc_clf.predict(test_X_processed)\n",
        "accuracy_score(test_Y_predicted, test_Y)"
      ],
      "execution_count": null,
      "outputs": [
        {
          "output_type": "execute_result",
          "data": {
            "text/plain": [
              "0.854714475431607"
            ]
          },
          "metadata": {
            "tags": []
          },
          "execution_count": 33
        }
      ]
    },
    {
      "cell_type": "markdown",
      "metadata": {
        "id": "lS-HN75z28VN",
        "colab_type": "text"
      },
      "source": [
        "We remove Race and we get the same accuracy score of 85.47%."
      ]
    },
    {
      "cell_type": "code",
      "metadata": {
        "id": "k4GJLhTm3E_Z",
        "colab_type": "code",
        "colab": {
          "base_uri": "https://localhost:8080/",
          "height": 34
        },
        "outputId": "4c960cf9-6a9f-4c44-d2f1-6f20d23007e9"
      },
      "source": [
        "# Baseline 85.47%\n",
        "\n",
        "# - Sex\n",
        "\n",
        "train_data_modified = train_data[[\"Age\", \"Workclass\", \"Final Weight\", \"Education\", \"Education Number of Year\", \"Marital-status\", \"Occupation\", \"Relationship\", \"Race\", \"Capital-gain\", \"Capital-loss\", \"Hours-per-week\", \"Native-country\", \"Class\"]]\n",
        "test_data_modified = test_data[[\"Age\", \"Workclass\", \"Final Weight\", \"Education\", \"Education Number of Year\", \"Marital-status\", \"Occupation\", \"Relationship\", \"Race\", \"Capital-gain\", \"Capital-loss\", \"Hours-per-week\", \"Native-country\", \"Class\"]]\n",
        "\n",
        "train_X = train_data_modified.drop('Class', axis =1)\n",
        "train_Y = train_data_modified['Class']\n",
        "test_X = test_data_modified.drop('Class', axis = 1)\n",
        "test_Y = test_data_modified['Class']\n",
        "train_X_processed = full_pipeline.fit_transform(train_X)\n",
        "test_X_processed = full_pipeline.fit_transform(test_X)\n",
        "gbc_clf.fit(train_X_processed, train_Y)\n",
        "test_Y_predicted = gbc_clf.predict(test_X_processed)\n",
        "accuracy_score(test_Y_predicted, test_Y)"
      ],
      "execution_count": null,
      "outputs": [
        {
          "output_type": "execute_result",
          "data": {
            "text/plain": [
              "0.8555776892430279"
            ]
          },
          "metadata": {
            "tags": []
          },
          "execution_count": 34
        }
      ]
    },
    {
      "cell_type": "markdown",
      "metadata": {
        "id": "u2lvzZWH3K2t",
        "colab_type": "text"
      },
      "source": [
        "We remove Sex and get a higher classification accuracy at 85.56%. "
      ]
    },
    {
      "cell_type": "code",
      "metadata": {
        "id": "2skv9eoV3RjL",
        "colab_type": "code",
        "colab": {
          "base_uri": "https://localhost:8080/",
          "height": 34
        },
        "outputId": "3fa9a685-a2fb-46e7-b408-29d2d04dd719"
      },
      "source": [
        "# Baseline 85.47%\n",
        "\n",
        "# - Capital Gain\n",
        "\n",
        "train_data_modified = train_data[[\"Age\", \"Workclass\", \"Final Weight\", \"Education\", \"Education Number of Year\", \"Marital-status\", \"Occupation\", \"Relationship\", \"Race\", \"Sex\", \"Capital-loss\", \"Hours-per-week\", \"Native-country\", \"Class\"]]\n",
        "test_data_modified = test_data[[\"Age\", \"Workclass\", \"Final Weight\", \"Education\", \"Education Number of Year\", \"Marital-status\", \"Occupation\", \"Relationship\", \"Race\", \"Sex\", \"Capital-loss\", \"Hours-per-week\", \"Native-country\", \"Class\"]]\n",
        "\n",
        "train_X = train_data_modified.drop('Class', axis =1)\n",
        "train_Y = train_data_modified['Class']\n",
        "test_X = test_data_modified.drop('Class', axis = 1)\n",
        "test_Y = test_data_modified['Class']\n",
        "train_X_processed = full_pipeline.fit_transform(train_X)\n",
        "test_X_processed = full_pipeline.fit_transform(test_X)\n",
        "gbc_clf.fit(train_X_processed, train_Y)\n",
        "test_Y_predicted = gbc_clf.predict(test_X_processed)\n",
        "accuracy_score(test_Y_predicted, test_Y)"
      ],
      "execution_count": null,
      "outputs": [
        {
          "output_type": "execute_result",
          "data": {
            "text/plain": [
              "0.8434262948207172"
            ]
          },
          "metadata": {
            "tags": []
          },
          "execution_count": 35
        }
      ]
    },
    {
      "cell_type": "markdown",
      "metadata": {
        "id": "Wfi2VaK23Ygp",
        "colab_type": "text"
      },
      "source": [
        "Removing Capital Gain leads to worse classification of 84.34%"
      ]
    },
    {
      "cell_type": "code",
      "metadata": {
        "id": "HmRBuHyS3dp1",
        "colab_type": "code",
        "colab": {
          "base_uri": "https://localhost:8080/",
          "height": 34
        },
        "outputId": "e60e0650-37f3-4b99-d704-74c900280c2e"
      },
      "source": [
        "# Baseline 85.47%\n",
        "\n",
        "# - Capital Loss\n",
        "\n",
        "train_data_modified = train_data[[\"Age\", \"Workclass\", \"Final Weight\", \"Education\", \"Education Number of Year\", \"Marital-status\", \"Occupation\", \"Relationship\", \"Race\", \"Sex\", \"Capital-gain\", \"Hours-per-week\", \"Native-country\", \"Class\"]]\n",
        "test_data_modified = test_data[[\"Age\", \"Workclass\", \"Final Weight\", \"Education\", \"Education Number of Year\", \"Marital-status\", \"Occupation\", \"Relationship\", \"Race\", \"Sex\", \"Capital-gain\", \"Hours-per-week\", \"Native-country\", \"Class\"]]\n",
        "\n",
        "train_X = train_data_modified.drop('Class', axis =1)\n",
        "train_Y = train_data_modified['Class']\n",
        "test_X = test_data_modified.drop('Class', axis = 1)\n",
        "test_Y = test_data_modified['Class']\n",
        "train_X_processed = full_pipeline.fit_transform(train_X)\n",
        "test_X_processed = full_pipeline.fit_transform(test_X)\n",
        "gbc_clf.fit(train_X_processed, train_Y)\n",
        "test_Y_predicted = gbc_clf.predict(test_X_processed)\n",
        "accuracy_score(test_Y_predicted, test_Y)"
      ],
      "execution_count": null,
      "outputs": [
        {
          "output_type": "execute_result",
          "data": {
            "text/plain": [
              "0.847543160690571"
            ]
          },
          "metadata": {
            "tags": []
          },
          "execution_count": 36
        }
      ]
    },
    {
      "cell_type": "markdown",
      "metadata": {
        "id": "6HKEFpQ23lAp",
        "colab_type": "text"
      },
      "source": [
        "Removing Capital Loss leads to a worse classification of 84.75%"
      ]
    },
    {
      "cell_type": "code",
      "metadata": {
        "id": "Cr59Olf43pmY",
        "colab_type": "code",
        "colab": {
          "base_uri": "https://localhost:8080/",
          "height": 34
        },
        "outputId": "836919d7-9b30-4b04-d784-7abb7286e14c"
      },
      "source": [
        "# Baseline 85.47%\n",
        "\n",
        "# - Hours-per-week\n",
        "\n",
        "train_data_modified = train_data[[\"Age\", \"Workclass\", \"Final Weight\", \"Education\", \"Education Number of Year\", \"Marital-status\", \"Occupation\", \"Relationship\", \"Race\", \"Sex\", \"Capital-gain\", \"Capital-loss\", \"Native-country\", \"Class\"]]\n",
        "test_data_modified = test_data[[\"Age\", \"Workclass\", \"Final Weight\", \"Education\", \"Education Number of Year\", \"Marital-status\", \"Occupation\", \"Relationship\", \"Race\", \"Sex\", \"Capital-gain\", \"Capital-loss\", \"Native-country\", \"Class\"]]\n",
        "\n",
        "train_X = train_data_modified.drop('Class', axis =1)\n",
        "train_Y = train_data_modified['Class']\n",
        "test_X = test_data_modified.drop('Class', axis = 1)\n",
        "test_Y = test_data_modified['Class']\n",
        "train_X_processed = full_pipeline.fit_transform(train_X)\n",
        "test_X_processed = full_pipeline.fit_transform(test_X)\n",
        "gbc_clf.fit(train_X_processed, train_Y)\n",
        "test_Y_predicted = gbc_clf.predict(test_X_processed)\n",
        "accuracy_score(test_Y_predicted, test_Y)"
      ],
      "execution_count": null,
      "outputs": [
        {
          "output_type": "execute_result",
          "data": {
            "text/plain": [
              "0.8541168658698539"
            ]
          },
          "metadata": {
            "tags": []
          },
          "execution_count": 37
        }
      ]
    },
    {
      "cell_type": "markdown",
      "metadata": {
        "id": "IK0_GTrV3zXX",
        "colab_type": "text"
      },
      "source": [
        "We remove Hours-per-week and get a worse classification at 85.41%"
      ]
    },
    {
      "cell_type": "code",
      "metadata": {
        "id": "Fr7cTcCM35F4",
        "colab_type": "code",
        "colab": {
          "base_uri": "https://localhost:8080/",
          "height": 34
        },
        "outputId": "c67d1b70-929d-4a2f-858e-7f28a1eaa680"
      },
      "source": [
        "# Baseline 85.47%\n",
        "\n",
        "# - Native Country\n",
        "\n",
        "train_data_modified = train_data[[\"Age\", \"Workclass\", \"Final Weight\", \"Education\", \"Education Number of Year\", \"Marital-status\", \"Occupation\", \"Relationship\", \"Race\", \"Sex\", \"Capital-gain\", \"Capital-loss\", \"Hours-per-week\", \"Class\"]]\n",
        "test_data_modified = test_data[[\"Age\", \"Workclass\", \"Final Weight\", \"Education\", \"Education Number of Year\", \"Marital-status\", \"Occupation\", \"Relationship\", \"Race\", \"Sex\", \"Capital-gain\", \"Capital-loss\", \"Hours-per-week\", \"Class\"]]\n",
        "\n",
        "train_X = train_data_modified.drop('Class', axis =1)\n",
        "train_Y = train_data_modified['Class']\n",
        "test_X = test_data_modified.drop('Class', axis = 1)\n",
        "test_Y = test_data_modified['Class']\n",
        "train_X_processed = full_pipeline.fit_transform(train_X)\n",
        "test_X_processed = full_pipeline.fit_transform(test_X)\n",
        "gbc_clf.fit(train_X_processed, train_Y)\n",
        "test_Y_predicted = gbc_clf.predict(test_X_processed)\n",
        "accuracy_score(test_Y_predicted, test_Y)"
      ],
      "execution_count": null,
      "outputs": [
        {
          "output_type": "execute_result",
          "data": {
            "text/plain": [
              "0.8545152722443559"
            ]
          },
          "metadata": {
            "tags": []
          },
          "execution_count": 38
        }
      ]
    },
    {
      "cell_type": "markdown",
      "metadata": {
        "id": "EYjFOCW73_dz",
        "colab_type": "text"
      },
      "source": [
        "We remove Native Country and get a slightly worse classification of 85.45%"
      ]
    },
    {
      "cell_type": "markdown",
      "metadata": {
        "id": "qrKLb-uB1REs",
        "colab_type": "text"
      },
      "source": [
        "That was all 14 features. We compile this data and analyze it in the report. We run additional tests on pairs of features we suspect to be very related (ex. Education and Education Number of Years)."
      ]
    },
    {
      "cell_type": "code",
      "metadata": {
        "id": "MURe1X_Q4FAD",
        "colab_type": "code",
        "colab": {
          "base_uri": "https://localhost:8080/",
          "height": 34
        },
        "outputId": "8ca52824-8974-48f7-cf11-a34902cdff98"
      },
      "source": [
        "# Baseline 85.47%\n",
        "\n",
        "# - Education, Education Number of Year\n",
        "\n",
        "train_data_modified = train_data[[\"Age\", \"Workclass\", \"Final Weight\", \"Marital-status\", \"Occupation\", \"Relationship\", \"Race\", \"Sex\", \"Capital-gain\", \"Capital-loss\", \"Hours-per-week\", \"Native-country\", \"Class\"]]\n",
        "test_data_modified = test_data[[\"Age\", \"Workclass\", \"Final Weight\", \"Marital-status\", \"Occupation\", \"Relationship\", \"Race\", \"Sex\", \"Capital-gain\", \"Capital-loss\", \"Hours-per-week\", \"Native-country\", \"Class\"]]\n",
        "\n",
        "train_X = train_data_modified.drop('Class', axis =1)\n",
        "train_Y = train_data_modified['Class']\n",
        "test_X = test_data_modified.drop('Class', axis = 1)\n",
        "test_Y = test_data_modified['Class']\n",
        "train_X_processed = full_pipeline.fit_transform(train_X)\n",
        "test_X_processed = full_pipeline.fit_transform(test_X)\n",
        "gbc_clf.fit(train_X_processed, train_Y)\n",
        "test_Y_predicted = gbc_clf.predict(test_X_processed)\n",
        "accuracy_score(test_Y_predicted, test_Y)"
      ],
      "execution_count": null,
      "outputs": [
        {
          "output_type": "execute_result",
          "data": {
            "text/plain": [
              "0.8480743691899071"
            ]
          },
          "metadata": {
            "tags": []
          },
          "execution_count": 39
        }
      ]
    },
    {
      "cell_type": "markdown",
      "metadata": {
        "id": "l_Axsuvd4WkN",
        "colab_type": "text"
      },
      "source": [
        "Worse classification of 84.81%"
      ]
    },
    {
      "cell_type": "code",
      "metadata": {
        "id": "9X-o1ob34Zm7",
        "colab_type": "code",
        "colab": {
          "base_uri": "https://localhost:8080/",
          "height": 34
        },
        "outputId": "85e44c0b-f66c-46ff-ba0a-3aea101f4244"
      },
      "source": [
        "# Baseline 85.47%\n",
        "\n",
        "# - Marital-status, Relationship\n",
        "\n",
        "train_data_modified = train_data[[\"Age\", \"Workclass\", \"Final Weight\", \"Education\", \"Education Number of Year\", \"Occupation\", \"Race\", \"Sex\", \"Capital-gain\", \"Capital-loss\", \"Hours-per-week\", \"Native-country\", \"Class\"]]\n",
        "test_data_modified = test_data[[\"Age\", \"Workclass\", \"Final Weight\", \"Education\", \"Education Number of Year\", \"Occupation\", \"Race\", \"Sex\", \"Capital-gain\", \"Capital-loss\", \"Hours-per-week\", \"Native-country\", \"Class\"]]\n",
        "\n",
        "train_X = train_data_modified.drop('Class', axis =1)\n",
        "train_Y = train_data_modified['Class']\n",
        "test_X = test_data_modified.drop('Class', axis = 1)\n",
        "test_Y = test_data_modified['Class']\n",
        "train_X_processed = full_pipeline.fit_transform(train_X)\n",
        "test_X_processed = full_pipeline.fit_transform(test_X)\n",
        "gbc_clf.fit(train_X_processed, train_Y)\n",
        "test_Y_predicted = gbc_clf.predict(test_X_processed)\n",
        "accuracy_score(test_Y_predicted, test_Y)"
      ],
      "execution_count": null,
      "outputs": [
        {
          "output_type": "execute_result",
          "data": {
            "text/plain": [
              "0.8282868525896414"
            ]
          },
          "metadata": {
            "tags": []
          },
          "execution_count": 40
        }
      ]
    },
    {
      "cell_type": "markdown",
      "metadata": {
        "id": "KbnU94n24j1M",
        "colab_type": "text"
      },
      "source": [
        "We remove marital-status and relationship and get a much worse classification at 82.83%"
      ]
    },
    {
      "cell_type": "code",
      "metadata": {
        "id": "kq_8yute4ri7",
        "colab_type": "code",
        "colab": {
          "base_uri": "https://localhost:8080/",
          "height": 34
        },
        "outputId": "4d5ac4b0-d6eb-4e43-f848-deb46a620e94"
      },
      "source": [
        "# Baseline 85.47%\n",
        "\n",
        "# - Occupation, Workclass\n",
        "\n",
        "train_data_modified = train_data[[\"Age\", \"Final Weight\", \"Education\", \"Education Number of Year\", \"Marital-status\", \"Relationship\", \"Race\", \"Sex\", \"Capital-gain\", \"Capital-loss\", \"Hours-per-week\", \"Native-country\", \"Class\"]]\n",
        "test_data_modified = test_data[[\"Age\", \"Final Weight\", \"Education\", \"Education Number of Year\", \"Marital-status\", \"Relationship\", \"Race\", \"Sex\", \"Capital-gain\", \"Capital-loss\", \"Hours-per-week\", \"Native-country\", \"Class\"]]\n",
        "\n",
        "train_X = train_data_modified.drop('Class', axis =1)\n",
        "train_Y = train_data_modified['Class']\n",
        "test_X = test_data_modified.drop('Class', axis = 1)\n",
        "test_Y = test_data_modified['Class']\n",
        "train_X_processed = full_pipeline.fit_transform(train_X)\n",
        "test_X_processed = full_pipeline.fit_transform(test_X)\n",
        "gbc_clf.fit(train_X_processed, train_Y)\n",
        "test_Y_predicted = gbc_clf.predict(test_X_processed)\n",
        "accuracy_score(test_Y_predicted, test_Y)"
      ],
      "execution_count": null,
      "outputs": [
        {
          "output_type": "execute_result",
          "data": {
            "text/plain": [
              "0.8490703851261621"
            ]
          },
          "metadata": {
            "tags": []
          },
          "execution_count": 41
        }
      ]
    },
    {
      "cell_type": "markdown",
      "metadata": {
        "id": "xFhb1zQY42XC",
        "colab_type": "text"
      },
      "source": [
        "Removing both Workclass and Occupation yield an accuracy score of 84.9%"
      ]
    },
    {
      "cell_type": "code",
      "metadata": {
        "id": "w2UIrlFO48JK",
        "colab_type": "code",
        "colab": {
          "base_uri": "https://localhost:8080/",
          "height": 34
        },
        "outputId": "6385c1e8-654e-4ece-c2ce-cff9cc7da6e7"
      },
      "source": [
        "# Baseline 85.47%\n",
        "\n",
        "# - Capital Gain, Capital Loss\n",
        "\n",
        "train_data_modified = train_data[[\"Age\", \"Workclass\", \"Final Weight\", \"Education\", \"Education Number of Year\", \"Marital-status\", \"Occupation\", \"Relationship\", \"Race\", \"Sex\", \"Hours-per-week\", \"Native-country\", \"Class\"]]\n",
        "test_data_modified = test_data[[\"Age\", \"Workclass\", \"Final Weight\", \"Education\", \"Education Number of Year\", \"Marital-status\", \"Occupation\", \"Relationship\", \"Race\", \"Sex\", \"Hours-per-week\", \"Native-country\", \"Class\"]]\n",
        "\n",
        "train_X = train_data_modified.drop('Class', axis =1)\n",
        "train_Y = train_data_modified['Class']\n",
        "test_X = test_data_modified.drop('Class', axis = 1)\n",
        "test_Y = test_data_modified['Class']\n",
        "train_X_processed = full_pipeline.fit_transform(train_X)\n",
        "test_X_processed = full_pipeline.fit_transform(test_X)\n",
        "gbc_clf.fit(train_X_processed, train_Y)\n",
        "test_Y_predicted = gbc_clf.predict(test_X_processed)\n",
        "accuracy_score(test_Y_predicted, test_Y)"
      ],
      "execution_count": null,
      "outputs": [
        {
          "output_type": "execute_result",
          "data": {
            "text/plain": [
              "0.8374501992031872"
            ]
          },
          "metadata": {
            "tags": []
          },
          "execution_count": 42
        }
      ]
    },
    {
      "cell_type": "markdown",
      "metadata": {
        "id": "q3ii3k8N5HIG",
        "colab_type": "text"
      },
      "source": [
        "Much worse accuracy after removing both Capital gain and capital loss of 83.75%"
      ]
    },
    {
      "cell_type": "markdown",
      "metadata": {
        "id": "zkzojaL519s5",
        "colab_type": "text"
      },
      "source": [
        "The experiment is complete now. We try to finalize our model by dropping the features which raised or had the same accuracy when dropped earlier. These were three: Marital-status, Race, and Sex. Do we drop all 3, two of them, or just one?"
      ]
    },
    {
      "cell_type": "code",
      "metadata": {
        "id": "kHkmoduj5SPK",
        "colab_type": "code",
        "colab": {
          "base_uri": "https://localhost:8080/",
          "height": 34
        },
        "outputId": "ceb403b4-7dea-4209-e5d8-7162ffbb1d11"
      },
      "source": [
        "# Baseline 85.47%\n",
        "\n",
        "# - Marital-status or Race or Sex, or any pair, or all three\n",
        "\n",
        "train_data_modified = train_data[[\"Race\", \"Sex\", \"Age\", \"Workclass\", \"Final Weight\", \"Education\", \"Education Number of Year\", \"Occupation\", \"Relationship\", \"Capital-gain\", \"Capital-loss\", \"Hours-per-week\", \"Native-country\", \"Class\"]]\n",
        "test_data_modified = test_data[[\"Race\", \"Sex\", \"Age\", \"Workclass\", \"Final Weight\", \"Education\", \"Education Number of Year\", \"Occupation\", \"Relationship\", \"Capital-gain\", \"Capital-loss\", \"Hours-per-week\", \"Native-country\", \"Class\"]]\n",
        "\n",
        "train_X = train_data_modified.drop('Class', axis =1)\n",
        "train_Y = train_data_modified['Class']\n",
        "test_X = test_data_modified.drop('Class', axis = 1)\n",
        "test_Y = test_data_modified['Class']\n",
        "train_X_processed = full_pipeline.fit_transform(train_X)\n",
        "test_X_processed = full_pipeline.fit_transform(test_X)\n",
        "gbc_clf.fit(train_X_processed, train_Y)\n",
        "test_Y_predicted = gbc_clf.predict(test_X_processed)\n",
        "accuracy_score(test_Y_predicted, test_Y)"
      ],
      "execution_count": null,
      "outputs": [
        {
          "output_type": "execute_result",
          "data": {
            "text/plain": [
              "0.8565073041168658"
            ]
          },
          "metadata": {
            "tags": []
          },
          "execution_count": 43
        }
      ]
    },
    {
      "cell_type": "markdown",
      "metadata": {
        "id": "pv-UxDyl6GDf",
        "colab_type": "text"
      },
      "source": [
        "##### Baseline: 85.47%\n",
        "#####Only Marital-status: 85.65%\n",
        "#####Only Race: 85.47%\n",
        "#####Only Sex: 85.56%\n",
        "#####Marital-status and race:  85.64%\n",
        "#####Marital-status and sex: 85.50\n",
        "#####Race and sex: 85.56%\n",
        "#####All 3: 85.55%\n",
        "#####All of these yield a better result than the baseline, but the greatest gain in accuracy comes from removing only marital-status so we will move forward with only that."
      ]
    },
    {
      "cell_type": "markdown",
      "metadata": {
        "id": "1SUJREYzvoyO",
        "colab_type": "text"
      },
      "source": [
        "#References:\n",
        "#####Agarwal, A. “Logistic Regression Classifier on Census Income Data.” Medium, TowardsData Science,  22  Oct.  2018,  towardsdatascience.com/logistic-regression-classifier-on-census-income-data-e1dbef0b5738.\n",
        "#####Brownlee,  J.  “Imbalanced  Classification  with  the  Adult  Income  Dataset.”  MachineLearning Mastery, 6 Mar. 2020, machinelearningmastery.com/imbalanced-classification-with-the-adult-income-dataset.\n",
        "#####Dua, D. and Graff, C. 2019.  UCI Machine Learning Repository.  Irvine, CA: Universityof California, School of Information and Computer Science.\n",
        "#####Hamers, B. and Suykens, J. and Moor, B. ”Coupled Transductive Ensemble Learningof Kernel Models.” Journal of Machine Learning Research, vol.  1, no.  10, 2003, pp.1-48.\n",
        "#####Kohavi, R. Scaling Up the Accuracy of Naive-Bayes Classifiers: a Decision-Tree Hybrid.In KDD-96 Proceedings, 1996.\n",
        "#####Wang, K. and Zhou, S. and Ada Fu, C. and Xu Yu, J. ”Mining Changes of Classificationby Correspondence Tracing.” In Third SIAM International Conference on Data MiningProceedings, 2003.10\n"
      ]
    }
  ]
}